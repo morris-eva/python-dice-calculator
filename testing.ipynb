{
 "cells": [
  {
   "cell_type": "code",
   "execution_count": 1,
   "id": "cd2f5c5c-4648-4835-8409-2184dd026d73",
   "metadata": {},
   "outputs": [],
   "source": [
    "from importlib import reload\n",
    "# \"For efficiency reasons, each module is only imported once per interpreter session.\n",
    "# Therefore, if you change your modules, you must restart the interpreter – \n",
    "# or, if it’s just one module you want to test interactively, use importlib.reload(), \n",
    "# e.g. import importlib; importlib.reload(modulename).\" - Python docs"
   ]
  },
  {
   "cell_type": "code",
   "execution_count": 2,
   "id": "0ee9b32b-2712-4ef7-9c44-4d9468b25b0d",
   "metadata": {},
   "outputs": [
    {
     "data": {
      "text/plain": [
       "<module 'dice' from 'C:\\\\Users\\\\Purpl\\\\Jupyter Notebooks\\\\python-dice-calculator\\\\dice.py'>"
      ]
     },
     "execution_count": 2,
     "metadata": {},
     "output_type": "execute_result"
    }
   ],
   "source": [
    "import dice\n",
    "reload(dice)"
   ]
  },
  {
   "cell_type": "code",
   "execution_count": 3,
   "id": "1f9c890e-4847-45b4-837f-5526b4640d49",
   "metadata": {},
   "outputs": [
    {
     "data": {
      "text/plain": [
       "<module 'pixel_cats_end' from 'C:\\\\Users\\\\Purpl\\\\Jupyter Notebooks\\\\python-dice-calculator\\\\pixel_cats_end.py'>"
      ]
     },
     "execution_count": 3,
     "metadata": {},
     "output_type": "execute_result"
    }
   ],
   "source": [
    "import pixel_cats_end as pce\n",
    "reload(pce)"
   ]
  },
  {
   "cell_type": "code",
   "execution_count": 4,
   "id": "09f42a14-1b4c-4d10-82c4-b84d9f2f7578",
   "metadata": {},
   "outputs": [],
   "source": [
    "a = dice.Die({0:1, 1:1})"
   ]
  },
  {
   "cell_type": "code",
   "execution_count": 5,
   "id": "313aa77b-9431-42bf-b054-ef7e98e4a762",
   "metadata": {},
   "outputs": [
    {
     "name": "stdout",
     "output_type": "stream",
     "text": [
      "{0: 1, 1: 10, 2: 45, 3: 120, 4: 210, 5: 252, 6: 210, 7: 120, 8: 45, 9: 10, 10: 1}\n"
     ]
    }
   ],
   "source": [
    "a.roll(10).display()"
   ]
  },
  {
   "cell_type": "code",
   "execution_count": 6,
   "id": "fa5a8033-9ac0-4431-a31b-10c7d01876ac",
   "metadata": {},
   "outputs": [],
   "source": [
    "kitty = pce.NotCat(\"Pushkin\")"
   ]
  },
  {
   "cell_type": "code",
   "execution_count": 7,
   "id": "3ceec120-21c1-45ba-8db7-ddf37fbdd94b",
   "metadata": {},
   "outputs": [],
   "source": [
    "kitty.set_stats({\"Strength\": 1, \"Agility\": 1, \"Health\": 1, \"Finesse\": 1, \"Cleverness\": 1, \"Perception\": 1, \"Luck\": 1})"
   ]
  },
  {
   "cell_type": "code",
   "execution_count": 8,
   "id": "9b3fbc3f-9903-473b-b7ac-71c39166ef82",
   "metadata": {},
   "outputs": [
    {
     "data": {
      "text/plain": [
       "7"
      ]
     },
     "execution_count": 8,
     "metadata": {},
     "output_type": "execute_result"
    }
   ],
   "source": [
    "kitty.stat_total"
   ]
  },
  {
   "cell_type": "code",
   "execution_count": null,
   "id": "9b7a7000-e816-44bd-83c7-f7b0e0e6d827",
   "metadata": {},
   "outputs": [],
   "source": []
  }
 ],
 "metadata": {
  "kernelspec": {
   "display_name": "Python 3 (ipykernel)",
   "language": "python",
   "name": "python3"
  },
  "language_info": {
   "codemirror_mode": {
    "name": "ipython",
    "version": 3
   },
   "file_extension": ".py",
   "mimetype": "text/x-python",
   "name": "python",
   "nbconvert_exporter": "python",
   "pygments_lexer": "ipython3",
   "version": "3.12.7"
  }
 },
 "nbformat": 4,
 "nbformat_minor": 5
}
